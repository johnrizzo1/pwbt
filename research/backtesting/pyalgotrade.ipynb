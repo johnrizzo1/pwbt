{
 "cells": [
  {
   "cell_type": "code",
   "execution_count": 3,
   "metadata": {},
   "outputs": [],
   "source": [
    "from __future__ import print_function\n",
    "\n",
    "from pyalgotrade import strategy\n",
    "from pyalgotrade.barfeed import quandlfeed, googlefeed\n",
    "from pyalgotrade.technical import ma\n",
    "\n"
   ]
  },
  {
   "cell_type": "code",
   "execution_count": null,
   "metadata": {},
   "outputs": [
    {
     "ename": "FileNotFoundError",
     "evalue": "[Errno 2] No such file or directory: 'WIKI-ORCL-2000-quandl.csv'",
     "output_type": "error",
     "traceback": [
      "\u001b[0;31m---------------------------------------------------------------------------\u001b[0m",
      "\u001b[0;31mFileNotFoundError\u001b[0m                         Traceback (most recent call last)",
      "Cell \u001b[0;32mIn[2], line 52\u001b[0m\n\u001b[1;32m     49\u001b[0m     myStrategy\u001b[38;5;241m.\u001b[39mrun()\n\u001b[1;32m     50\u001b[0m     \u001b[38;5;28mprint\u001b[39m(\u001b[38;5;124m\"\u001b[39m\u001b[38;5;124mFinal portfolio value: $\u001b[39m\u001b[38;5;132;01m%.2f\u001b[39;00m\u001b[38;5;124m\"\u001b[39m \u001b[38;5;241m%\u001b[39m myStrategy\u001b[38;5;241m.\u001b[39mgetBroker()\u001b[38;5;241m.\u001b[39mgetEquity())\n\u001b[0;32m---> 52\u001b[0m \u001b[43mrun_strategy\u001b[49m\u001b[43m(\u001b[49m\u001b[38;5;241;43m15\u001b[39;49m\u001b[43m)\u001b[49m\n",
      "Cell \u001b[0;32mIn[2], line 45\u001b[0m, in \u001b[0;36mrun_strategy\u001b[0;34m(smaPeriod)\u001b[0m\n\u001b[1;32m     42\u001b[0m \u001b[38;5;28;01mdef\u001b[39;00m\u001b[38;5;250m \u001b[39m\u001b[38;5;21mrun_strategy\u001b[39m(smaPeriod):\n\u001b[1;32m     43\u001b[0m     \u001b[38;5;66;03m# Load the bar feed from the CSV file\u001b[39;00m\n\u001b[1;32m     44\u001b[0m     feed \u001b[38;5;241m=\u001b[39m quandlfeed\u001b[38;5;241m.\u001b[39mFeed()\n\u001b[0;32m---> 45\u001b[0m     \u001b[43mfeed\u001b[49m\u001b[38;5;241;43m.\u001b[39;49m\u001b[43maddBarsFromCSV\u001b[49m\u001b[43m(\u001b[49m\u001b[38;5;124;43m\"\u001b[39;49m\u001b[38;5;124;43morcl\u001b[39;49m\u001b[38;5;124;43m\"\u001b[39;49m\u001b[43m,\u001b[49m\u001b[43m \u001b[49m\u001b[38;5;124;43m\"\u001b[39;49m\u001b[38;5;124;43mWIKI-ORCL-2000-quandl.csv\u001b[39;49m\u001b[38;5;124;43m\"\u001b[39;49m\u001b[43m)\u001b[49m\n\u001b[1;32m     47\u001b[0m     \u001b[38;5;66;03m# Evaluate the strategy with the feed.\u001b[39;00m\n\u001b[1;32m     48\u001b[0m     myStrategy \u001b[38;5;241m=\u001b[39m MyStrategy(feed, \u001b[38;5;124m\"\u001b[39m\u001b[38;5;124morcl\u001b[39m\u001b[38;5;124m\"\u001b[39m, smaPeriod)\n",
      "File \u001b[0;32m~/Projects/ai/trading/trader/.devenv/state/venv/lib/python3.12/site-packages/pyalgotrade/barfeed/csvfeed.py:294\u001b[0m, in \u001b[0;36mGenericBarFeed.addBarsFromCSV\u001b[0;34m(self, instrument, path, timezone, skipMalformedBars)\u001b[0m\n\u001b[1;32m    287\u001b[0m     timezone \u001b[38;5;241m=\u001b[39m \u001b[38;5;28mself\u001b[39m\u001b[38;5;241m.\u001b[39m__timezone\n\u001b[1;32m    289\u001b[0m rowParser \u001b[38;5;241m=\u001b[39m GenericRowParser(\n\u001b[1;32m    290\u001b[0m     \u001b[38;5;28mself\u001b[39m\u001b[38;5;241m.\u001b[39m__columnNames, \u001b[38;5;28mself\u001b[39m\u001b[38;5;241m.\u001b[39m__dateTimeFormat, \u001b[38;5;28mself\u001b[39m\u001b[38;5;241m.\u001b[39mgetDailyBarTime(), \u001b[38;5;28mself\u001b[39m\u001b[38;5;241m.\u001b[39mgetFrequency(),\n\u001b[1;32m    291\u001b[0m     timezone, \u001b[38;5;28mself\u001b[39m\u001b[38;5;241m.\u001b[39m__barClass\n\u001b[1;32m    292\u001b[0m )\n\u001b[0;32m--> 294\u001b[0m \u001b[38;5;28;43msuper\u001b[39;49m\u001b[43m(\u001b[49m\u001b[43mGenericBarFeed\u001b[49m\u001b[43m,\u001b[49m\u001b[43m \u001b[49m\u001b[38;5;28;43mself\u001b[39;49m\u001b[43m)\u001b[49m\u001b[38;5;241;43m.\u001b[39;49m\u001b[43maddBarsFromCSV\u001b[49m\u001b[43m(\u001b[49m\u001b[43minstrument\u001b[49m\u001b[43m,\u001b[49m\u001b[43m \u001b[49m\u001b[43mpath\u001b[49m\u001b[43m,\u001b[49m\u001b[43m \u001b[49m\u001b[43mrowParser\u001b[49m\u001b[43m,\u001b[49m\u001b[43m \u001b[49m\u001b[43mskipMalformedBars\u001b[49m\u001b[38;5;241;43m=\u001b[39;49m\u001b[43mskipMalformedBars\u001b[49m\u001b[43m)\u001b[49m\n\u001b[1;32m    296\u001b[0m \u001b[38;5;28;01mif\u001b[39;00m rowParser\u001b[38;5;241m.\u001b[39mbarsHaveAdjClose():\n\u001b[1;32m    297\u001b[0m     \u001b[38;5;28mself\u001b[39m\u001b[38;5;241m.\u001b[39m__haveAdjClose \u001b[38;5;241m=\u001b[39m \u001b[38;5;28;01mTrue\u001b[39;00m\n",
      "File \u001b[0;32m~/Projects/ai/trading/trader/.devenv/state/venv/lib/python3.12/site-packages/pyalgotrade/barfeed/csvfeed.py:133\u001b[0m, in \u001b[0;36mBarFeed.addBarsFromCSV\u001b[0;34m(self, instrument, path, rowParser, skipMalformedBars)\u001b[0m\n\u001b[1;32m    131\u001b[0m \u001b[38;5;66;03m# Load the csv file\u001b[39;00m\n\u001b[1;32m    132\u001b[0m loadedBars \u001b[38;5;241m=\u001b[39m []\n\u001b[0;32m--> 133\u001b[0m reader \u001b[38;5;241m=\u001b[39m csvutils\u001b[38;5;241m.\u001b[39mFastDictReader(\u001b[38;5;28;43mopen\u001b[39;49m\u001b[43m(\u001b[49m\u001b[43mpath\u001b[49m\u001b[43m,\u001b[49m\u001b[43m \u001b[49m\u001b[38;5;124;43m\"\u001b[39;49m\u001b[38;5;124;43mr\u001b[39;49m\u001b[38;5;124;43m\"\u001b[39;49m\u001b[43m)\u001b[49m, fieldnames\u001b[38;5;241m=\u001b[39mrowParser\u001b[38;5;241m.\u001b[39mgetFieldNames(), delimiter\u001b[38;5;241m=\u001b[39mrowParser\u001b[38;5;241m.\u001b[39mgetDelimiter())\n\u001b[1;32m    134\u001b[0m \u001b[38;5;28;01mfor\u001b[39;00m row \u001b[38;5;129;01min\u001b[39;00m reader:\n\u001b[1;32m    135\u001b[0m     bar_ \u001b[38;5;241m=\u001b[39m parse_bar(row)\n",
      "\u001b[0;31mFileNotFoundError\u001b[0m: [Errno 2] No such file or directory: 'WIKI-ORCL-2000-quandl.csv'"
     ]
    }
   ],
   "source": [
    "\n",
    "class MyStrategy(strategy.BacktestingStrategy):\n",
    "    def __init__(self, feed, instrument, smaPeriod):\n",
    "        super(MyStrategy, self).__init__(feed, 1000)\n",
    "        self.__position = None\n",
    "        self.__instrument = instrument\n",
    "        # We'll use adjusted close values instead of regular close values.\n",
    "        self.setUseAdjustedValues(True)\n",
    "        self.__sma = ma.SMA(feed[instrument].getPriceDataSeries(), smaPeriod)\n",
    "\n",
    "    def onEnterOk(self, position):\n",
    "        execInfo = position.getEntryOrder().getExecutionInfo()\n",
    "        self.info(\"BUY at $%.2f\" % (execInfo.getPrice()))\n",
    "\n",
    "    def onEnterCanceled(self, position):\n",
    "        self.__position = None\n",
    "\n",
    "    def onExitOk(self, position):\n",
    "        execInfo = position.getExitOrder().getExecutionInfo()\n",
    "        self.info(\"SELL at $%.2f\" % (execInfo.getPrice()))\n",
    "        self.__position = None\n",
    "\n",
    "    def onExitCanceled(self, position):\n",
    "        # If the exit was canceled, re-submit it.\n",
    "        self.__position.exitMarket()\n",
    "\n",
    "    def onBars(self, bars):\n",
    "        # Wait for enough bars to be available to calculate a SMA.\n",
    "        if self.__sma[-1] is None:\n",
    "            return\n",
    "\n",
    "        bar = bars[self.__instrument]\n",
    "        # If a position was not opened, check if we should enter a long position.\n",
    "        if self.__position is None:\n",
    "            if bar.getPrice() > self.__sma[-1]:\n",
    "                # Enter a buy market order for 10 shares. The order is good till canceled.\n",
    "                self.__position = self.enterLong(self.__instrument, 10, True)\n",
    "        # Check if we have to exit the position.\n",
    "        elif bar.getPrice() < self.__sma[-1] and not self.__position.exitActive():\n",
    "            self.__position.exitMarket()\n",
    "\n",
    "\n",
    "def run_strategy(smaPeriod):\n",
    "    # Load the bar feed from the CSV file\n",
    "    # feed = quandlfeed.Feed()\n",
    "    # feed.addBarsFromCSV(\"orcl\", \"WIKI-ORCL-2000-quandl.csv\")\n",
    "\n",
    "    feed = googlefeed.Feed()\n",
    "    feed.\n",
    "\n",
    "    # Evaluate the strategy with the feed.\n",
    "    myStrategy = MyStrategy(feed, \"orcl\", smaPeriod)\n",
    "    myStrategy.run()\n",
    "    print(\"Final portfolio value: $%.2f\" % myStrategy.getBroker().getEquity())\n",
    "\n",
    "run_strategy(15)"
   ]
  },
  {
   "cell_type": "code",
   "execution_count": null,
   "metadata": {},
   "outputs": [],
   "source": []
  }
 ],
 "metadata": {
  "kernelspec": {
   "display_name": "venv (3.12.7)",
   "language": "python",
   "name": "python3"
  },
  "language_info": {
   "codemirror_mode": {
    "name": "ipython",
    "version": 3
   },
   "file_extension": ".py",
   "mimetype": "text/x-python",
   "name": "python",
   "nbconvert_exporter": "python",
   "pygments_lexer": "ipython3",
   "version": "3.12.7"
  }
 },
 "nbformat": 4,
 "nbformat_minor": 2
}
