{
 "cells": [
  {
   "cell_type": "code",
   "execution_count": 1,
   "metadata": {},
   "outputs": [],
   "source": [
    "from datetime import date\n",
    "from datasets import load_dataset\n",
    "import numpy as np\n",
    "import pandas as pd\n",
    "# from systematic_trading.datasets.dataset import Dataset"
   ]
  },
  {
   "cell_type": "code",
   "execution_count": null,
   "metadata": {},
   "outputs": [],
   "source": [
    "class TargetsMonthly(Dataset):\n",
    "    def __init__(self, suffix: str = None, tag_date: date = None, username: str = None):\n",
    "        super().__init__(suffix, tag_date, username)\n",
    "        self.name = f\"targets-monthly-{self.suffix}\"\n",
    "        self.expected_columns = [\"symbol\", \"date\", \"return\", \"return_quintile\"]\n",
    "        \n",
    "    def __return_to_quintile(self, returns_arr):\n",
    "        # I am allowed to use the future to calculate the percentiles\n",
    "        percentiles = np.percentile(returns_arr, [20, 40, 60, 80])\n",
    "        quintile_id = []\n",
    "        for ret in returns_arr:\n",
    "            if ret <= percentiles[0]:\n",
    "                quintile_id.append(-2)\n",
    "            elif ret <= percentiles[1]:\n",
    "                quintile_id.append(-1)\n",
    "            elif ret <= percentiles[2]:\n",
    "                quintile_id.append(0)\n",
    "            elif ret <= percentiles[3]:\n",
    "                quintile_id.append(1)\n",
    "            else:\n",
    "                quintile_id.append(2)\n",
    "        return quintile_id\n",
    "    \n",
    "    def set_dataset_df(self):\n",
    "        timeseries_daily_df = pd.DataFrame(\n",
    "            load_dataset(\n",
    "                f\"{self.username}/timeseries-daily-{self.suffix}\",\n",
    "                revision=self.tag_date.isoformat(),\n",
    "                split=\"train\",\n",
    "            ),\n",
    "        )\n",
    "        timeseries_daily_df[\"date\"] = pd.to_datetime(timeseries_daily_df[\"date\"])\n",
    "        timeseries_daily_df.set_index(\"date\", inplace=True)\n",
    "        # Cross-sectional returns\n",
    "        monthly_df = (\n",
    "            timeseries_daily_df.groupby(\"symbol\")[\"close\"]\n",
    "            .resample(\"M\")\n",
    "            .last()\n",
    "            .pct_change()\n",
    "            .shift(-1)\n",
    "        )\n",
    "        monthly_df = monthly_df.reset_index(level=[\"symbol\", \"date\"]).dropna()\n",
    "        monthly_df.rename(columns={\"close\": \"return\"}, inplace=True)\n",
    "        monthly_df[\"return_quintile\"] = monthly_df.groupby(\"date\")[\"return\"].transform(\n",
    "            lambda x: pd.qcut(x, 5, labels=False)\n",
    "        )\n",
    "        monthly_df.reset_index(drop=True, inplace=True)\n",
    "        self.dataset_df = monthly_df\n",
    "    \n",
    "    "
   ]
  }
 ],
 "metadata": {
  "kernelspec": {
   "display_name": "venv (3.12.7)",
   "language": "python",
   "name": "python3"
  },
  "language_info": {
   "codemirror_mode": {
    "name": "ipython",
    "version": 3
   },
   "file_extension": ".py",
   "mimetype": "text/x-python",
   "name": "python",
   "nbconvert_exporter": "python",
   "pygments_lexer": "ipython3",
   "version": "3.12.7"
  }
 },
 "nbformat": 4,
 "nbformat_minor": 2
}
