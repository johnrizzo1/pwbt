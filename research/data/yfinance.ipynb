{
 "cells": [
  {
   "cell_type": "code",
   "execution_count": 2,
   "metadata": {},
   "outputs": [],
   "source": [
    "import yfinance as yf  # For stock data\n",
    "import pandas as pd    # For data manipulation\n",
    "import numpy as np     # For numerical operations\n",
    "import matplotlib.pyplot as plt  # For visualizations\n"
   ]
  },
  {
   "cell_type": "code",
   "execution_count": 3,
   "metadata": {},
   "outputs": [
    {
     "name": "stdout",
     "output_type": "stream",
     "text": [
      "YF.download() has changed argument auto_adjust default to True\n"
     ]
    },
    {
     "name": "stderr",
     "output_type": "stream",
     "text": [
      "[*********************100%***********************]  1 of 1 completed"
     ]
    },
    {
     "name": "stdout",
     "output_type": "stream",
     "text": [
      "Price          Close      High       Low      Open     Volume\n",
      "Ticker          AAPL      AAPL      AAPL      AAPL       AAPL\n",
      "Date                                                         \n",
      "2010-01-04  6.440331  6.455076  6.391278  6.422876  493729600\n",
      "2010-01-05  6.451467  6.487880  6.417461  6.458088  601904800\n",
      "2010-01-06  6.348847  6.477046  6.342226  6.451466  552160000\n",
      "2010-01-07  6.337109  6.379843  6.291066  6.372319  477131200\n",
      "2010-01-08  6.379240  6.379842  6.291367  6.328682  447610800\n"
     ]
    },
    {
     "name": "stderr",
     "output_type": "stream",
     "text": [
      "\n"
     ]
    }
   ],
   "source": [
    "# Define parameters\n",
    "ticker = \"AAPL\"  # Apple stock\n",
    "start_date = \"2010-01-01\"\n",
    "end_date = \"2020-01-01\"\n",
    "\n",
    "# Fetch historical stock data\n",
    "data = yf.download(ticker, start=start_date, end=end_date)\n",
    "\n",
    "# Display first few rows\n",
    "print(data.head())\n"
   ]
  }
 ],
 "metadata": {
  "kernelspec": {
   "display_name": "venv (3.12.7)",
   "language": "python",
   "name": "python3"
  },
  "language_info": {
   "codemirror_mode": {
    "name": "ipython",
    "version": 3
   },
   "file_extension": ".py",
   "mimetype": "text/x-python",
   "name": "python",
   "nbconvert_exporter": "python",
   "pygments_lexer": "ipython3",
   "version": "3.12.7"
  }
 },
 "nbformat": 4,
 "nbformat_minor": 2
}
