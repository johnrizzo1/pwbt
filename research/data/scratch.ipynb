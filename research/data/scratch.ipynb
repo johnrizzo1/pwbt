{
 "cells": [
  {
   "cell_type": "code",
   "execution_count": 4,
   "metadata": {},
   "outputs": [],
   "source": [
    "import pandas as pd    # For data manipulation\n",
    "import numpy as np     # For numerical operations\n",
    "import matplotlib.pyplot as plt  # For visualizations\n",
    "import requests\n"
   ]
  },
  {
   "cell_type": "code",
   "execution_count": 11,
   "metadata": {},
   "outputs": [],
   "source": [
    "r = requests.get(\"https://api.financialdatasets.ai/prices/tickers/\")"
   ]
  },
  {
   "cell_type": "code",
   "execution_count": 12,
   "metadata": {},
   "outputs": [
    {
     "name": "stdout",
     "output_type": "stream",
     "text": [
      "<Response [200]>\n"
     ]
    }
   ],
   "source": [
    "print(r)"
   ]
  },
  {
   "cell_type": "code",
   "execution_count": 20,
   "metadata": {},
   "outputs": [],
   "source": [
    "tickers = r.json()['tickers']\n",
    "df = pd.DataFrame(tickers)\n",
    "df.columns = ['Ticker']"
   ]
  },
  {
   "cell_type": "code",
   "execution_count": 22,
   "metadata": {},
   "outputs": [
    {
     "name": "stdout",
     "output_type": "stream",
     "text": [
      "<class 'pandas.core.frame.DataFrame'>\n",
      "RangeIndex: 9219 entries, 0 to 9218\n",
      "Data columns (total 1 columns):\n",
      " #   Column  Non-Null Count  Dtype \n",
      "---  ------  --------------  ----- \n",
      " 0   Ticker  9219 non-null   object\n",
      "dtypes: object(1)\n",
      "memory usage: 72.2+ KB\n"
     ]
    },
    {
     "data": {
      "application/vnd.microsoft.datawrangler.viewer.v0+json": {
       "columns": [
        {
         "name": "index",
         "rawType": "int64",
         "type": "integer"
        },
        {
         "name": "Ticker",
         "rawType": "object",
         "type": "string"
        }
       ],
       "conversionMethod": "pd.DataFrame",
       "ref": "597b7333-9e3d-4095-98bf-bd3e3f790443",
       "rows": [
        [
         "0",
         "A"
        ],
        [
         "1",
         "AA"
        ],
        [
         "2",
         "AAAU"
        ],
        [
         "3",
         "AACB"
        ],
        [
         "4",
         "AACBU"
        ],
        [
         "5",
         "AACG"
        ],
        [
         "6",
         "AACT"
        ],
        [
         "7",
         "AADI"
        ],
        [
         "8",
         "AAGO"
        ],
        [
         "9",
         "AAL"
        ],
        [
         "10",
         "AAM"
        ],
        [
         "11",
         "AAME"
        ],
        [
         "12",
         "AAMI"
        ],
        [
         "13",
         "AAMTF"
        ],
        [
         "14",
         "AAOI"
        ],
        [
         "15",
         "AAON"
        ],
        [
         "16",
         "AAP"
        ],
        [
         "17",
         "AAPG"
        ],
        [
         "18",
         "AAPI"
        ],
        [
         "19",
         "AAPL"
        ],
        [
         "20",
         "AAQL"
        ],
        [
         "21",
         "AARD"
        ],
        [
         "22",
         "AAS"
        ],
        [
         "23",
         "AASP"
        ],
        [
         "24",
         "AAT"
        ],
        [
         "25",
         "AATC"
        ],
        [
         "26",
         "AAUAF"
        ],
        [
         "27",
         "AAUGF"
        ],
        [
         "28",
         "AAWH"
        ],
        [
         "29",
         "AB"
        ],
        [
         "30",
         "ABAT"
        ],
        [
         "31",
         "ABBNY"
        ],
        [
         "32",
         "ABBV"
        ],
        [
         "33",
         "ABCB"
        ],
        [
         "34",
         "ABCFF"
        ],
        [
         "35",
         "ABCL"
        ],
        [
         "36",
         "ABCP"
        ],
        [
         "37",
         "ABEO"
        ],
        [
         "38",
         "ABEV"
        ],
        [
         "39",
         "ABG"
        ],
        [
         "40",
         "ABIT"
        ],
        [
         "41",
         "ABL"
        ],
        [
         "42",
         "ABLLL"
        ],
        [
         "43",
         "ABLLW"
        ],
        [
         "44",
         "ABLV"
        ],
        [
         "45",
         "ABLVW"
        ],
        [
         "46",
         "ABLZF"
        ],
        [
         "47",
         "ABM"
        ],
        [
         "48",
         "ABNB"
        ],
        [
         "49",
         "ABOS"
        ]
       ],
       "shape": {
        "columns": 1,
        "rows": 9219
       }
      },
      "text/html": [
       "<div>\n",
       "<style scoped>\n",
       "    .dataframe tbody tr th:only-of-type {\n",
       "        vertical-align: middle;\n",
       "    }\n",
       "\n",
       "    .dataframe tbody tr th {\n",
       "        vertical-align: top;\n",
       "    }\n",
       "\n",
       "    .dataframe thead th {\n",
       "        text-align: right;\n",
       "    }\n",
       "</style>\n",
       "<table border=\"1\" class=\"dataframe\">\n",
       "  <thead>\n",
       "    <tr style=\"text-align: right;\">\n",
       "      <th></th>\n",
       "      <th>Ticker</th>\n",
       "    </tr>\n",
       "  </thead>\n",
       "  <tbody>\n",
       "    <tr>\n",
       "      <th>0</th>\n",
       "      <td>A</td>\n",
       "    </tr>\n",
       "    <tr>\n",
       "      <th>1</th>\n",
       "      <td>AA</td>\n",
       "    </tr>\n",
       "    <tr>\n",
       "      <th>2</th>\n",
       "      <td>AAAU</td>\n",
       "    </tr>\n",
       "    <tr>\n",
       "      <th>3</th>\n",
       "      <td>AACB</td>\n",
       "    </tr>\n",
       "    <tr>\n",
       "      <th>4</th>\n",
       "      <td>AACBU</td>\n",
       "    </tr>\n",
       "    <tr>\n",
       "      <th>...</th>\n",
       "      <td>...</td>\n",
       "    </tr>\n",
       "    <tr>\n",
       "      <th>9214</th>\n",
       "      <td>ZVSA</td>\n",
       "    </tr>\n",
       "    <tr>\n",
       "      <th>9215</th>\n",
       "      <td>ZWS</td>\n",
       "    </tr>\n",
       "    <tr>\n",
       "      <th>9216</th>\n",
       "      <td>ZYBT</td>\n",
       "    </tr>\n",
       "    <tr>\n",
       "      <th>9217</th>\n",
       "      <td>ZYME</td>\n",
       "    </tr>\n",
       "    <tr>\n",
       "      <th>9218</th>\n",
       "      <td>ZYXI</td>\n",
       "    </tr>\n",
       "  </tbody>\n",
       "</table>\n",
       "<p>9219 rows × 1 columns</p>\n",
       "</div>"
      ],
      "text/plain": [
       "     Ticker\n",
       "0         A\n",
       "1        AA\n",
       "2      AAAU\n",
       "3      AACB\n",
       "4     AACBU\n",
       "...     ...\n",
       "9214   ZVSA\n",
       "9215    ZWS\n",
       "9216   ZYBT\n",
       "9217   ZYME\n",
       "9218   ZYXI\n",
       "\n",
       "[9219 rows x 1 columns]"
      ]
     },
     "execution_count": 22,
     "metadata": {},
     "output_type": "execute_result"
    }
   ],
   "source": [
    "df.info()\n",
    "df"
   ]
  },
  {
   "cell_type": "code",
   "execution_count": null,
   "metadata": {},
   "outputs": [],
   "source": []
  }
 ],
 "metadata": {
  "kernelspec": {
   "display_name": "venv (3.12.7)",
   "language": "python",
   "name": "python3"
  },
  "language_info": {
   "codemirror_mode": {
    "name": "ipython",
    "version": 3
   },
   "file_extension": ".py",
   "mimetype": "text/x-python",
   "name": "python",
   "nbconvert_exporter": "python",
   "pygments_lexer": "ipython3",
   "version": "3.12.7"
  }
 },
 "nbformat": 4,
 "nbformat_minor": 2
}
